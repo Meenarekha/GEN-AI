{
  "nbformat": 4,
  "nbformat_minor": 0,
  "metadata": {
    "colab": {
      "provenance": [],
      "authorship_tag": "ABX9TyOpd2RV0LCWQ3h0aQqSK9PS",
      "include_colab_link": true
    },
    "kernelspec": {
      "name": "python3",
      "display_name": "Python 3"
    },
    "language_info": {
      "name": "python"
    }
  },
  "cells": [
    {
      "cell_type": "markdown",
      "metadata": {
        "id": "view-in-github",
        "colab_type": "text"
      },
      "source": [
        "<a href=\"https://colab.research.google.com/github/Meenarekha/GEN-AI/blob/main/DEEP_LEARNING_PROJECT.ipynb\" target=\"_parent\"><img src=\"https://colab.research.google.com/assets/colab-badge.svg\" alt=\"Open In Colab\"/></a>"
      ]
    },
    {
      "cell_type": "markdown",
      "source": [
        "# Handwritten Digit Recognition using CNN (MNIST)"
      ],
      "metadata": {
        "id": "CNb3TRpjwZ1_"
      }
    },
    {
      "cell_type": "code",
      "execution_count": 3,
      "metadata": {
        "colab": {
          "base_uri": "https://localhost:8080/",
          "height": 879
        },
        "id": "tE-4gJt2wXLO",
        "outputId": "cb7f6222-e09e-4ed3-dc55-f1dc87dbabab"
      },
      "outputs": [
        {
          "name": "stdout",
          "output_type": "stream",
          "text": [
            "📥 Loading MNIST dataset...\n",
            "✅ Dataset loaded and preprocessed!\n",
            "\n",
            "🔧 Building CNN model...\n",
            "✅ Model architecture created!\n",
            "\n",
            "🚀 Training the model...\n",
            "Epoch 1/5\n",
            "\u001b[1m1875/1875\u001b[0m \u001b[32m━━━━━━━━━━━━━━━━━━━━\u001b[0m\u001b[37m\u001b[0m \u001b[1m41s\u001b[0m 21ms/step - accuracy: 0.9081 - loss: 0.3103 - val_accuracy: 0.9800 - val_loss: 0.0596\n",
            "Epoch 2/5\n",
            "\u001b[1m1875/1875\u001b[0m \u001b[32m━━━━━━━━━━━━━━━━━━━━\u001b[0m\u001b[37m\u001b[0m \u001b[1m42s\u001b[0m 21ms/step - accuracy: 0.9834 - loss: 0.0531 - val_accuracy: 0.9809 - val_loss: 0.0579\n",
            "Epoch 3/5\n",
            "\u001b[1m1875/1875\u001b[0m \u001b[32m━━━━━━━━━━━━━━━━━━━━\u001b[0m\u001b[37m\u001b[0m \u001b[1m42s\u001b[0m 22ms/step - accuracy: 0.9893 - loss: 0.0345 - val_accuracy: 0.9845 - val_loss: 0.0475\n",
            "Epoch 4/5\n",
            "\u001b[1m1875/1875\u001b[0m \u001b[32m━━━━━━━━━━━━━━━━━━━━\u001b[0m\u001b[37m\u001b[0m \u001b[1m40s\u001b[0m 21ms/step - accuracy: 0.9929 - loss: 0.0219 - val_accuracy: 0.9860 - val_loss: 0.0388\n",
            "Epoch 5/5\n",
            "\u001b[1m1875/1875\u001b[0m \u001b[32m━━━━━━━━━━━━━━━━━━━━\u001b[0m\u001b[37m\u001b[0m \u001b[1m42s\u001b[0m 22ms/step - accuracy: 0.9954 - loss: 0.0141 - val_accuracy: 0.9860 - val_loss: 0.0460\n",
            "✅ Training completed!\n",
            "\u001b[1m313/313\u001b[0m \u001b[32m━━━━━━━━━━━━━━━━━━━━\u001b[0m\u001b[37m\u001b[0m \u001b[1m2s\u001b[0m 7ms/step - accuracy: 0.9819 - loss: 0.0579\n",
            "\n",
            "🎯 Test Accuracy: 0.9860\n",
            "\n",
            "🔎 Let's predict a digit from the test set!\n",
            "Enter an image index (0 to 9999): 67\n"
          ]
        },
        {
          "output_type": "display_data",
          "data": {
            "text/plain": [
              "<Figure size 640x480 with 1 Axes>"
            ],
            "image/png": "[encoded data removed]"
          },
          "metadata": {}
        },
        {
          "output_type": "stream",
          "name": "stdout",
          "text": [
            "\u001b[1m1/1\u001b[0m \u001b[32m━━━━━━━━━━━━━━━━━━━━\u001b[0m\u001b[37m\u001b[0m \u001b[1m0s\u001b[0m 107ms/step\n",
            "🧾 Predicted digit: 4\n"
          ]
        }
      ],
      "source": [
        "# Import modules\n",
        "import tensorflow as tf\n",
        "from tensorflow.keras.datasets import mnist\n",
        "from tensorflow.keras.models import Sequential\n",
        "from tensorflow.keras.layers import Conv2D, MaxPooling2D, Flatten, Dense\n",
        "from tensorflow.keras.utils import to_categorical\n",
        "import numpy as np\n",
        "import matplotlib.pyplot as plt\n",
        "\n",
        "# Step 1: Load and preprocess data\n",
        "print(\"📥 Loading MNIST dataset...\")\n",
        "(X_train, y_train), (X_test, y_test) = mnist.load_data()\n",
        "X_train = X_train.reshape(-1, 28, 28, 1) / 255.0\n",
        "X_test = X_test.reshape(-1, 28, 28, 1) / 255.0\n",
        "y_train = to_categorical(y_train)\n",
        "y_test = to_categorical(y_test)\n",
        "print(\"✅ Dataset loaded and preprocessed!\")\n",
        "\n",
        "# Step 2: Build CNN model\n",
        "print(\"\\n🔧 Building CNN model...\")\n",
        "model = Sequential([\n",
        "    Conv2D(32, (3, 3), activation='relu', input_shape=(28, 28, 1)),\n",
        "    MaxPooling2D((2, 2)),\n",
        "    Flatten(),\n",
        "    Dense(100, activation='relu'),\n",
        "    Dense(10, activation='softmax')\n",
        "])\n",
        "print(\"✅ Model architecture created!\")\n",
        "\n",
        "# Step 3: Compile model\n",
        "model.compile(optimizer='adam', loss='categorical_crossentropy', metrics=['accuracy'])\n",
        "\n",
        "# Step 4: Train model\n",
        "print(\"\\n🚀 Training the model...\")\n",
        "model.fit(X_train, y_train, epochs=5, validation_data=(X_test, y_test))\n",
        "print(\"✅ Training completed!\")\n",
        "\n",
        "# Step 5: Evaluate model\n",
        "test_loss, test_acc = model.evaluate(X_test, y_test)\n",
        "print(f\"\\n🎯 Test Accuracy: {test_acc:.4f}\")\n",
        "\n",
        "# Step 6: Predict user-selected test image\n",
        "print(\"\\n🔎 Let's predict a digit from the test set!\")\n",
        "index = int(input(\"Enter an image index (0 to 9999): \"))\n",
        "\n",
        "# Show image\n",
        "plt.imshow(X_test[index].reshape(28, 28), cmap='gray')\n",
        "plt.title(\"Test Image\")\n",
        "plt.axis('off')\n",
        "plt.show()\n",
        "\n",
        "# Predict\n",
        "prediction = model.predict(np.expand_dims(X_test[index], axis=0))\n",
        "predicted_class = np.argmax(prediction)\n",
        "print(f\"🧾 Predicted digit: {predicted_class}\")\n"
      ]
    },
    {
      "cell_type": "code",
      "source": [
        "# Import modules\n",
        "import tensorflow as tf\n",
        "from tensorflow.keras.datasets import mnist\n",
        "from tensorflow.keras.models import Sequential\n",
        "from tensorflow.keras.layers import Conv2D, MaxPooling2D, Flatten, Dense\n",
        "from tensorflow.keras.utils import to_categorical\n",
        "import numpy as np\n",
        "import matplotlib.pyplot as plt\n",
        "\n",
        "# Step 1: Load and preprocess data\n",
        "print(\"📥 Loading MNIST dataset...\")\n",
        "(X_train, y_train), (X_test, y_test) = mnist.load_data()\n",
        "X_train = X_train.reshape(-1, 28, 28, 1) / 255.0\n",
        "X_test = X_test.reshape(-1, 28, 28, 1) / 255.0\n",
        "y_train = to_categorical(y_train)\n",
        "y_test = to_categorical(y_test)\n",
        "print(\"✅ Dataset loaded and preprocessed!\")\n",
        "\n",
        "# Step 2: Build CNN model\n",
        "print(\"\\n🔧 Building CNN model...\")\n",
        "model = Sequential([\n",
        "    Conv2D(32, (3, 3), activation='relu', input_shape=(28, 28, 1)),\n",
        "    MaxPooling2D((2, 2)),\n",
        "    Flatten(),\n",
        "    Dense(100, activation='relu'),\n",
        "    Dense(10, activation='softmax')\n",
        "])\n",
        "print(\"✅ Model architecture created!\")\n",
        "\n",
        "# Step 3: Compile model\n",
        "model.compile(optimizer='adam', loss='categorical_crossentropy', metrics=['accuracy'])\n",
        "\n",
        "# Step 4: Train model\n",
        "print(\"\\n🚀 Training the model...\")\n",
        "model.fit(X_train, y_train, epochs=5, validation_data=(X_test, y_test))\n",
        "print(\"✅ Training completed!\")\n",
        "\n",
        "# Step 5: Evaluate model\n",
        "test_loss, test_acc = model.evaluate(X_test, y_test)\n",
        "print(f\"\\n🎯 Test Accuracy: {test_acc:.4f}\")\n",
        "\n",
        "# Step 6: Predict user-selected test image\n",
        "print(\"\\n🔎 Let's predict a digit from the test set!\")\n",
        "index = int(input(\"Enter an image index (0 to 9999): \"))\n",
        "\n",
        "# Show image\n",
        "plt.imshow(X_test[index].reshape(28, 28), cmap='gray')\n",
        "plt.title(\"Test Image\")\n",
        "plt.axis('off')\n",
        "plt.show()\n",
        "\n",
        "# Predict\n",
        "prediction = model.predict(np.expand_dims(X_test[index], axis=0))\n",
        "predicted_class = np.argmax(prediction)\n",
        "print(f\"🧾 Predicted digit: {predicted_class}\")\n"
      ],
      "metadata": {
        "colab": {
          "base_uri": "https://localhost:8080/",
          "height": 879
        },
        "id": "v-JDKreU1rV0",
        "outputId": "b50c1aa9-cd9b-49b0-b47f-8d0816e926b2"
      },
      "execution_count": 11,
      "outputs": [
        {
          "name": "stdout",
          "output_type": "stream",
          "text": [
            "📥 Loading MNIST dataset...\n",
            "✅ Dataset loaded and preprocessed!\n",
            "\n",
            "🔧 Building CNN model...\n",
            "✅ Model architecture created!\n",
            "\n",
            "🚀 Training the model...\n",
            "Epoch 1/5\n",
            "\u001b[1m1875/1875\u001b[0m \u001b[32m━━━━━━━━━━━━━━━━━━━━\u001b[0m\u001b[37m\u001b[0m \u001b[1m40s\u001b[0m 21ms/step - accuracy: 0.9109 - loss: 0.2997 - val_accuracy: 0.9811 - val_loss: 0.0579\n",
            "Epoch 2/5\n",
            "\u001b[1m1875/1875\u001b[0m \u001b[32m━━━━━━━━━━━━━━━━━━━━\u001b[0m\u001b[37m\u001b[0m \u001b[1m42s\u001b[0m 21ms/step - accuracy: 0.9836 - loss: 0.0533 - val_accuracy: 0.9849 - val_loss: 0.0442\n",
            "Epoch 3/5\n",
            "\u001b[1m1875/1875\u001b[0m \u001b[32m━━━━━━━━━━━━━━━━━━━━\u001b[0m\u001b[37m\u001b[0m \u001b[1m39s\u001b[0m 21ms/step - accuracy: 0.9897 - loss: 0.0348 - val_accuracy: 0.9850 - val_loss: 0.0432\n",
            "Epoch 4/5\n",
            "\u001b[1m1875/1875\u001b[0m \u001b[32m━━━━━━━━━━━━━━━━━━━━\u001b[0m\u001b[37m\u001b[0m \u001b[1m42s\u001b[0m 23ms/step - accuracy: 0.9934 - loss: 0.0215 - val_accuracy: 0.9861 - val_loss: 0.0455\n",
            "Epoch 5/5\n",
            "\u001b[1m1875/1875\u001b[0m \u001b[32m━━━━━━━━━━━━━━━━━━━━\u001b[0m\u001b[37m\u001b[0m \u001b[1m80s\u001b[0m 22ms/step - accuracy: 0.9959 - loss: 0.0136 - val_accuracy: 0.9864 - val_loss: 0.0455\n",
            "✅ Training completed!\n",
            "\u001b[1m313/313\u001b[0m \u001b[32m━━━━━━━━━━━━━━━━━━━━\u001b[0m\u001b[37m\u001b[0m \u001b[1m3s\u001b[0m 9ms/step - accuracy: 0.9830 - loss: 0.0544\n",
            "\n",
            "🎯 Test Accuracy: 0.9864\n",
            "\n",
            "🔎 Let's predict a digit from the test set!\n",
            "Enter an image index (0 to 9999): 157\n"
          ]
        },
        {
          "output_type": "display_data",
          "data": {
            "text/plain": [
              "<Figure size 640x480 with 1 Axes>"
            ],
            "image/png": "[encoded data removed]"
          },
          "metadata": {}
        },
        {
          "output_type": "stream",
          "name": "stdout",
          "text": [
            "\u001b[1m1/1\u001b[0m \u001b[32m━━━━━━━━━━━━━━━━━━━━\u001b[0m\u001b[37m\u001b[0m \u001b[1m0s\u001b[0m 114ms/step\n",
            "🧾 Predicted digit: 0\n"
          ]
        }
      ]
    },
    {
      "cell_type": "code",
      "source": [],
      "metadata": {
        "id": "go4yplR54iVK"
      },
      "execution_count": null,
      "outputs": []
    }
  ]
}