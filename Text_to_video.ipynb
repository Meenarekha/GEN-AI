{
  "cells": [
    {
      "cell_type": "markdown",
      "metadata": {
        "id": "view-in-github",
        "colab_type": "text"
      },
      "source": [
        "<a href=\"https://colab.research.google.com/github/Meenarekha/GEN-AI/blob/main/Text_to_video.ipynb\" target=\"_parent\"><img src=\"https://colab.research.google.com/assets/colab-badge.svg\" alt=\"Open In Colab\"/></a>"
      ]
    },
    {
      "cell_type": "code",
      "execution_count": null,
      "metadata": {
        "colab": {
          "base_uri": "https://localhost:8080/"
        },
        "id": "b9QF76bg9OTk",
        "outputId": "15efbe09-aed3-4646-97f5-be73a25bf794"
      },
      "outputs": [
        {
          "name": "stdout",
          "output_type": "stream",
          "text": [
            "Requirement already satisfied: diffusers in /usr/local/lib/python3.11/dist-packages (0.32.2)\n",
            "Requirement already satisfied: importlib-metadata in /usr/local/lib/python3.11/dist-packages (from diffusers) (8.6.1)\n",
            "Requirement already satisfied: filelock in /usr/local/lib/python3.11/dist-packages (from diffusers) (3.18.0)\n",
            "Requirement already satisfied: huggingface-hub>=0.23.2 in /usr/local/lib/python3.11/dist-packages (from diffusers) (0.30.2)\n",
            "Requirement already satisfied: numpy in /usr/local/lib/python3.11/dist-packages (from diffusers) (2.0.2)\n",
            "Requirement already satisfied: regex!=2019.12.17 in /usr/local/lib/python3.11/dist-packages (from diffusers) (2024.11.6)\n",
            "Requirement already satisfied: requests in /usr/local/lib/python3.11/dist-packages (from diffusers) (2.32.3)\n",
            "Requirement already satisfied: safetensors>=0.3.1 in /usr/local/lib/python3.11/dist-packages (from diffusers) (0.5.3)\n",
            "Requirement already satisfied: Pillow in /usr/local/lib/python3.11/dist-packages (from diffusers) (11.1.0)\n",
            "Requirement already satisfied: fsspec>=2023.5.0 in /usr/local/lib/python3.11/dist-packages (from huggingface-hub>=0.23.2->diffusers) (2024.9.0)\n",
            "Requirement already satisfied: packaging>=20.9 in /usr/local/lib/python3.11/dist-packages (from huggingface-hub>=0.23.2->diffusers) (24.2)\n",
            "Requirement already satisfied: pyyaml>=5.1 in /usr/local/lib/python3.11/dist-packages (from huggingface-hub>=0.23.2->diffusers) (6.0.2)\n",
            "Requirement already satisfied: tqdm>=4.42.1 in /usr/local/lib/python3.11/dist-packages (from huggingface-hub>=0.23.2->diffusers) (4.67.1)\n",
            "Requirement already satisfied: typing-extensions>=3.7.4.3 in /usr/local/lib/python3.11/dist-packages (from huggingface-hub>=0.23.2->diffusers) (4.13.1)\n",
            "Requirement already satisfied: zipp>=3.20 in /usr/local/lib/python3.11/dist-packages (from importlib-metadata->diffusers) (3.21.0)\n",
            "Requirement already satisfied: charset-normalizer<4,>=2 in /usr/local/lib/python3.11/dist-packages (from requests->diffusers) (3.4.1)\n",
            "Requirement already satisfied: idna<4,>=2.5 in /usr/local/lib/python3.11/dist-packages (from requests->diffusers) (3.10)\n",
            "Requirement already satisfied: urllib3<3,>=1.21.1 in /usr/local/lib/python3.11/dist-packages (from requests->diffusers) (2.3.0)\n",
            "Requirement already satisfied: certifi>=2017.4.17 in /usr/local/lib/python3.11/dist-packages (from requests->diffusers) (2025.1.31)\n"
          ]
        }
      ],
      "source": [
        "!pip install diffusers"
      ]
    },
    {
      "cell_type": "code",
      "execution_count": null,
      "metadata": {
        "colab": {
          "base_uri": "https://localhost:8080/"
        },
        "id": "dENdazhgEf_n",
        "outputId": "edcf2806-bb83-4b67-9e03-4cc753041db1"
      },
      "outputs": [
        {
          "name": "stdout",
          "output_type": "stream",
          "text": [
            "Requirement already satisfied: transformers in /usr/local/lib/python3.11/dist-packages (4.51.1)\n",
            "Requirement already satisfied: filelock in /usr/local/lib/python3.11/dist-packages (from transformers) (3.18.0)\n",
            "Requirement already satisfied: huggingface-hub<1.0,>=0.30.0 in /usr/local/lib/python3.11/dist-packages (from transformers) (0.30.2)\n",
            "Requirement already satisfied: numpy>=1.17 in /usr/local/lib/python3.11/dist-packages (from transformers) (2.0.2)\n",
            "Requirement already satisfied: packaging>=20.0 in /usr/local/lib/python3.11/dist-packages (from transformers) (24.2)\n",
            "Requirement already satisfied: pyyaml>=5.1 in /usr/local/lib/python3.11/dist-packages (from transformers) (6.0.2)\n",
            "Requirement already satisfied: regex!=2019.12.17 in /usr/local/lib/python3.11/dist-packages (from transformers) (2024.11.6)\n",
            "Requirement already satisfied: requests in /usr/local/lib/python3.11/dist-packages (from transformers) (2.32.3)\n",
            "Requirement already satisfied: tokenizers<0.22,>=0.21 in /usr/local/lib/python3.11/dist-packages (from transformers) (0.21.1)\n",
            "Requirement already satisfied: safetensors>=0.4.3 in /usr/local/lib/python3.11/dist-packages (from transformers) (0.5.3)\n",
            "Requirement already satisfied: tqdm>=4.27 in /usr/local/lib/python3.11/dist-packages (from transformers) (4.67.1)\n",
            "Requirement already satisfied: fsspec>=2023.5.0 in /usr/local/lib/python3.11/dist-packages (from huggingface-hub<1.0,>=0.30.0->transformers) (2024.9.0)\n",
            "Requirement already satisfied: typing-extensions>=3.7.4.3 in /usr/local/lib/python3.11/dist-packages (from huggingface-hub<1.0,>=0.30.0->transformers) (4.13.1)\n",
            "Requirement already satisfied: charset-normalizer<4,>=2 in /usr/local/lib/python3.11/dist-packages (from requests->transformers) (3.4.1)\n",
            "Requirement already satisfied: idna<4,>=2.5 in /usr/local/lib/python3.11/dist-packages (from requests->transformers) (3.10)\n",
            "Requirement already satisfied: urllib3<3,>=1.21.1 in /usr/local/lib/python3.11/dist-packages (from requests->transformers) (2.3.0)\n",
            "Requirement already satisfied: certifi>=2017.4.17 in /usr/local/lib/python3.11/dist-packages (from requests->transformers) (2025.1.31)\n"
          ]
        }
      ],
      "source": [
        "!pip install transformers"
      ]
    },
    {
      "cell_type": "code",
      "execution_count": null,
      "metadata": {
        "colab": {
          "base_uri": "https://localhost:8080/"
        },
        "id": "pMcSE2e4EiFn",
        "outputId": "64b0f375-91d8-4d04-ac41-124079e6e994"
      },
      "outputs": [
        {
          "name": "stdout",
          "output_type": "stream",
          "text": [
            "Requirement already satisfied: accelerate in /usr/local/lib/python3.11/dist-packages (1.5.2)\n",
            "Requirement already satisfied: numpy<3.0.0,>=1.17 in /usr/local/lib/python3.11/dist-packages (from accelerate) (2.0.2)\n",
            "Requirement already satisfied: packaging>=20.0 in /usr/local/lib/python3.11/dist-packages (from accelerate) (24.2)\n",
            "Requirement already satisfied: psutil in /usr/local/lib/python3.11/dist-packages (from accelerate) (5.9.5)\n",
            "Requirement already satisfied: pyyaml in /usr/local/lib/python3.11/dist-packages (from accelerate) (6.0.2)\n",
            "Requirement already satisfied: torch>=2.0.0 in /usr/local/lib/python3.11/dist-packages (from accelerate) (2.6.0+cu124)\n",
            "Requirement already satisfied: huggingface-hub>=0.21.0 in /usr/local/lib/python3.11/dist-packages (from accelerate) (0.30.2)\n",
            "Requirement already satisfied: safetensors>=0.4.3 in /usr/local/lib/python3.11/dist-packages (from accelerate) (0.5.3)\n",
            "Requirement already satisfied: filelock in /usr/local/lib/python3.11/dist-packages (from huggingface-hub>=0.21.0->accelerate) (3.18.0)\n",
            "Requirement already satisfied: fsspec>=2023.5.0 in /usr/local/lib/python3.11/dist-packages (from huggingface-hub>=0.21.0->accelerate) (2024.9.0)\n",
            "Requirement already satisfied: requests in /usr/local/lib/python3.11/dist-packages (from huggingface-hub>=0.21.0->accelerate) (2.32.3)\n",
            "Requirement already satisfied: tqdm>=4.42.1 in /usr/local/lib/python3.11/dist-packages (from huggingface-hub>=0.21.0->accelerate) (4.67.1)\n",
            "Requirement already satisfied: typing-extensions>=3.7.4.3 in /usr/local/lib/python3.11/dist-packages (from huggingface-hub>=0.21.0->accelerate) (4.13.1)\n",
            "Requirement already satisfied: networkx in /usr/local/lib/python3.11/dist-packages (from torch>=2.0.0->accelerate) (3.4.2)\n",
            "Requirement already satisfied: jinja2 in /usr/local/lib/python3.11/dist-packages (from torch>=2.0.0->accelerate) (3.1.6)\n",
            "Requirement already satisfied: nvidia-cuda-nvrtc-cu12==12.4.127 in /usr/local/lib/python3.11/dist-packages (from torch>=2.0.0->accelerate) (12.4.127)\n",
            "Requirement already satisfied: nvidia-cuda-runtime-cu12==12.4.127 in /usr/local/lib/python3.11/dist-packages (from torch>=2.0.0->accelerate) (12.4.127)\n",
            "Requirement already satisfied: nvidia-cuda-cupti-cu12==12.4.127 in /usr/local/lib/python3.11/dist-packages (from torch>=2.0.0->accelerate) (12.4.127)\n",
            "Requirement already satisfied: nvidia-cudnn-cu12==9.1.0.70 in /usr/local/lib/python3.11/dist-packages (from torch>=2.0.0->accelerate) (9.1.0.70)\n",
            "Requirement already satisfied: nvidia-cublas-cu12==12.4.5.8 in /usr/local/lib/python3.11/dist-packages (from torch>=2.0.0->accelerate) (12.4.5.8)\n",
            "Requirement already satisfied: nvidia-cufft-cu12==11.2.1.3 in /usr/local/lib/python3.11/dist-packages (from torch>=2.0.0->accelerate) (11.2.1.3)\n",
            "Requirement already satisfied: nvidia-curand-cu12==10.3.5.147 in /usr/local/lib/python3.11/dist-packages (from torch>=2.0.0->accelerate) (10.3.5.147)\n",
            "Requirement already satisfied: nvidia-cusolver-cu12==11.6.1.9 in /usr/local/lib/python3.11/dist-packages (from torch>=2.0.0->accelerate) (11.6.1.9)\n",
            "Requirement already satisfied: nvidia-cusparse-cu12==12.3.1.170 in /usr/local/lib/python3.11/dist-packages (from torch>=2.0.0->accelerate) (12.3.1.170)\n",
            "Requirement already satisfied: nvidia-cusparselt-cu12==0.6.2 in /usr/local/lib/python3.11/dist-packages (from torch>=2.0.0->accelerate) (0.6.2)\n",
            "Requirement already satisfied: nvidia-nccl-cu12==2.21.5 in /usr/local/lib/python3.11/dist-packages (from torch>=2.0.0->accelerate) (2.21.5)\n",
            "Requirement already satisfied: nvidia-nvtx-cu12==12.4.127 in /usr/local/lib/python3.11/dist-packages (from torch>=2.0.0->accelerate) (12.4.127)\n",
            "Requirement already satisfied: nvidia-nvjitlink-cu12==12.4.127 in /usr/local/lib/python3.11/dist-packages (from torch>=2.0.0->accelerate) (12.4.127)\n",
            "Requirement already satisfied: triton==3.2.0 in /usr/local/lib/python3.11/dist-packages (from torch>=2.0.0->accelerate) (3.2.0)\n",
            "Requirement already satisfied: sympy==1.13.1 in /usr/local/lib/python3.11/dist-packages (from torch>=2.0.0->accelerate) (1.13.1)\n",
            "Requirement already satisfied: mpmath<1.4,>=1.1.0 in /usr/local/lib/python3.11/dist-packages (from sympy==1.13.1->torch>=2.0.0->accelerate) (1.3.0)\n",
            "Requirement already satisfied: MarkupSafe>=2.0 in /usr/local/lib/python3.11/dist-packages (from jinja2->torch>=2.0.0->accelerate) (3.0.2)\n",
            "Requirement already satisfied: charset-normalizer<4,>=2 in /usr/local/lib/python3.11/dist-packages (from requests->huggingface-hub>=0.21.0->accelerate) (3.4.1)\n",
            "Requirement already satisfied: idna<4,>=2.5 in /usr/local/lib/python3.11/dist-packages (from requests->huggingface-hub>=0.21.0->accelerate) (3.10)\n",
            "Requirement already satisfied: urllib3<3,>=1.21.1 in /usr/local/lib/python3.11/dist-packages (from requests->huggingface-hub>=0.21.0->accelerate) (2.3.0)\n",
            "Requirement already satisfied: certifi>=2017.4.17 in /usr/local/lib/python3.11/dist-packages (from requests->huggingface-hub>=0.21.0->accelerate) (2025.1.31)\n"
          ]
        }
      ],
      "source": [
        "!pip install accelerate"
      ]
    },
    {
      "cell_type": "code",
      "execution_count": null,
      "metadata": {
        "colab": {
          "base_uri": "https://localhost:8080/"
        },
        "id": "FTUEiFz-EkT_",
        "outputId": "40ccca9d-05e7-47e3-8e52-b21ebbca6b76"
      },
      "outputs": [
        {
          "name": "stdout",
          "output_type": "stream",
          "text": [
            "Requirement already satisfied: safetensors in /usr/local/lib/python3.11/dist-packages (0.5.3)\n"
          ]
        }
      ],
      "source": [
        "!pip install safetensors"
      ]
    },
    {
      "cell_type": "code",
      "execution_count": null,
      "metadata": {
        "colab": {
          "base_uri": "https://localhost:8080/",
          "height": 939,
          "referenced_widgets": [
            "f113db66d58441a6a1577bd295db8813",
            "a7c9906638e74e26b2e6eeccb4ff4088",
            "f0547b13e5cd42049ee35a7bfd9d2ea3",
            "d0a06cf129eb48bea279e8a191972eb6",
            "5708ef90955a43b9aa11898d7ad59760",
            "62b4bf2d0af84bca800e005e16d7ceaa",
            "6b683a06c6d845249c22909f22683184",
            "60248969b7654b6dbe2a784e68826c77",
            "6cabe38650f44df8a547a18806a0581e",
            "cfd37621990048dda912dd845af43ffa",
            "4ff0ba3349124fc0aed948e40b88c091",
            "7a7727d7ca064a0399fba983dab48415",
            "bb293bc629284c9ba9224dcfc70ef52b",
            "19b27b2ecb37469092e6c90173d4547c",
            "2011cd12698e4ddb9329361ced0bdaf1",
            "716464c59aba435ea1e68760cb85de90",
            "b3f6d8d2ffaa43d2a52bc3cb79237f89",
            "5172133c1f9d4ac98501bb91a76aef64",
            "5a10c4e7d00448eaa4d929e3dc1f679a",
            "14b3a6a65bb247af8ab910607b6f4bae",
            "a773db6d456f486bb456e54b0d156268",
            "68ff39efb32149ef8ab4982f3af2bb41",
            "f79287553fe443d0b39e9689c2c56a80",
            "89647ce08cc84d9b899981457f74b8a1",
            "4d2eec76cae34416aa7de71933d499fd",
            "d606f160be9942e88ea0e3bff175e307",
            "5839663c4e63441a9428ffad47d799b1",
            "92a0951a3c654ebc9b0e742b40a5dec7",
            "89cbc86cd5b04693b17bf7258daa0353",
            "a8ed2023d07d4c2180ac451d3a3320e6",
            "8b0bdb444a4d4435883b197569394ffe",
            "37dbf8ad07734eeca76a184acdb62b68",
            "81c60a848a3c4f4d81a57d58d65e9ff1",
            "105784f58cc04f38b6bb2a7481be832c",
            "acdf0354fc1a49829d57745614f23bc8",
            "7bef535b9dff43c0b13bc2647ac8360a",
            "83443b9969974252b5cc9ab948414360",
            "44ad299dfe584beea86fd193a8781c77",
            "e89f6fb17623465bb100a60b1a4e60a7",
            "470fa8f3cbf24c0695f748695527135e",
            "f80dd9cdf3274821a7b0d313c648c4d6",
            "62891e07d9f54d2cb33ff7456fe867b2",
            "4717ab6c7acd495a80dc141a9e1d1953",
            "e8fc5ee92f4b4089862a819bb5f0039f",
            "f26b366481c04befb47910916e85c131",
            "f7763af029f544ecb01faf692552f4d6",
            "7c748bed73054edb904dc8b556a2d53b",
            "6773bf65c0784b299ab31447d476d7ca",
            "ebb0bae40dd3443db7b859399c6b4ba5",
            "2f1a0cdc57384d0d9d7f8e04995c2f7c",
            "a9e2a0d3a5894bf99b514f07ea8e1b53",
            "f0b3f9f402f642858a4c536437fa794f",
            "c9739d304b2c4b56872a9120808d009b",
            "69005fcca3d5412fb3ba8a7aa34836a2",
            "423e63b4d9b04d8fb01b3d2449adc9f6",
            "536bac4b2efc4dcca7b9ba9c71dfc420",
            "fe510e4af2ab422486226264db1a2767",
            "4f71cfde558c48a0a937ff0a6dcf058c",
            "471a88f8d74c40a588cf43123f18e2ff",
            "8c36b935dbcb42c3a7d87a1dbd056442",
            "c78f5b9d81db406895d21318548381b5",
            "ae2e6304158c4961a27510a549b86c5d",
            "f1200ab8356447cdb22202b4e7f0574a",
            "4e720c571f194bc3942d9106be494ab7",
            "c86ed45e44c345d0b18d0128252af54f",
            "94d36d804bc54c4295716ee836717622",
            "deeb86204ebd4e5d97350734830a07e7",
            "03f58cf5457b42b09d20a8414b13e6d7",
            "850c6cc2012a42b8bfe997e8262b9576",
            "67c0f6df5cd045f6bc200de377c49538",
            "9c3343c065874fda8d497dd24982c470",
            "6e10601492be46878b03c07d2d97de54",
            "e73ca490250e4bd6a7005d84cc840dfd",
            "fe4efc2a55c946fda2ec5c9b04f205ab",
            "dca3ea7ebe1843929dc33d933b528c63",
            "300885ec04d24578a87a75a6af9a939c",
            "d71481cf71f04ab19ccc8a1d84df32eb",
            "44f384b5d70243eb877f16bb46349e40",
            "621aa054bae444ceb7b1eb74bfe6bd2a",
            "8838974be3bd40699fea0e90069074eb",
            "09be1eecbd4244369658634fe87228a1",
            "9a702028ffd34ed2b7240cfcb4cf3305",
            "5f6a5691506b45028c73e2b84e28f5df",
            "5d32aa84d2e744eb973fb6fe2a87203b",
            "064871f3a04c499fb4489d108bd8b8ea",
            "f1bc20a4eb0f46ae9b98d45ab439b5b9",
            "4eb9cbe172fc4bfd9e2d009cf2f016ee",
            "d55ebb5e7fa44d4ebe5f46e9e5cf1bc7",
            "ed7b3a10a2344ba0ae6aa15521a76f8c",
            "4f2baace96164d63849521118b552746",
            "457738c9eac9461daa86ddef0f93e9c0",
            "379a337218134970a0a58ae6025bab17",
            "ae730def6906473584876ea76f7d23dc",
            "59d30f24678340f9affe5b11d0c6af62",
            "2759b9a4a7594492972f184dff9f3270",
            "6cedb4c27d1d499aa0382e0d4eb7a020",
            "598af8c9f6ab4717a78019f38ba59170",
            "ed77ccc8d06f444682da2784c9336a30",
            "8d8957643ea54a92ab126dc8be26866a",
            "adf77d2209504e97a699ba14b9c66f89",
            "ee614f9870e2403e86b7d2b8a4b17920",
            "428d71c8f6ea4212aa444a3f1cf4155e",
            "968683e45e0a4f8fab8e7321cdb60e6b",
            "4afc4cf1c2c14f4d88aa35b9e61b905b",
            "2b7f4352a4a94a568e4c1ba33a5552e5",
            "f4639bbce261446ebf87a0f937772340",
            "5c7d9b9ef3fd4b20974f35f37c54a8ec",
            "1858928f35654b8ab06c4bd5183269c5",
            "801d3641e982422cade05d2857aeaec2",
            "fdfabc9f49414f2bae04552d7d6d77bc",
            "137e69b964d84539afc6e303a6850527",
            "f4a1d5bb5e144840999c433d208a18b4",
            "898fc4db7c3f42dda5945382db276fcb",
            "7cedcdb61a0948eab570a71e835efe22",
            "b5cee865ce1f4b6d9ccacfbebcd3f7f1",
            "39ac4a5c10294c01bc014b502da6bdf1",
            "8b37791560774d2cb2e154d19f36a0ba",
            "85c02bcaa7864223a113b1f93c95fb3d",
            "06de7f95f1d147b6af27fcbc9df13de2",
            "fa811e36961848c49bedb43c50a9a205",
            "e6f4ac649c51490eadf66ac50395b2cc",
            "16ba03e6cfb840459ed8e05d2dcee4c4",
            "3ee0ce5260da48d9b0cbe22b7ca998af",
            "fe7be3b138224155ac1c3b57568a0ba9",
            "941495301d634c4dbb0fde98a24e1fa7",
            "7631f5c80ca346979ca86ed141a01ff9",
            "528de44c75aa480c84eb697d204dfe44",
            "5cf52477c1844dd1b2b9ebcb5bfaa595",
            "50d57514a0ee43c890f989c30c705a7f",
            "5e7d2fba2fbd459798bec6c80b9057b8",
            "e595b984743a4ae4b34ef9d0c11379f1",
            "b96b1a9f2be745f48985ea900439837f",
            "caf07693c5e242f7a1028d39a8321e59",
            "0fd512693bca4de99cf67dd046b0df37",
            "7384fe7fbe0447b29f1b97858df42979",
            "2bdf2976dcca43aab799dce973b8ea85",
            "385235f2549d4e1195f6f74fc2552666",
            "c4e99537b0cf45b9b519c597a8dbfffe",
            "36f65f00caab48c2bba0be15a1a09526",
            "65affbbda4ca40bbb3e4ec1b41cd6234",
            "d9d90415f1ad479cad20c88c558a5895",
            "a6ef9aebe6174b3a819e917a99ed9a0d",
            "ed99810b356a40d5a942145c1cb1a1cb",
            "7afaaddf54e04893b8f897c32df987d3",
            "c7c1cc11bb9545bbb06e4cc2f26f326a",
            "b502265970f44e64ae44d38ef9024064",
            "2a2c21e63e6f42968438b99e689103bb",
            "fb15ffb059ba454bb4acf7c1a51fcf25",
            "c67c1da0a5a74e4784c7d75d6f148312",
            "cb4119ca36be4cef8107e401bcdd06ec",
            "8152cb65744c4b8cb2e8a86b3a395d23",
            "d8e365c6fa4642579015e7bf28573dba",
            "e4f7123f56ad4021b1727c6509012688",
            "b34dd78dcfcc4939a5f44060f9a59d94",
            "26a44fbcdcee4226b1c34ffe796a16bf",
            "7764aaf352dd48e390f5ba650c9b4bc1",
            "9fa56e51fc4c4ff09edce00528624330",
            "157b158e75354ce9b99f078123a5eb17",
            "29b1ead5eeae4c4c8f92b0f3227aad2a",
            "da3f9b8e934640359cbf1fed6852b4e2",
            "127e552d03f045949dc3a06f65f85b0c",
            "44b7a4c361cd47f6bfff323676b7bd49",
            "733a3221b2004041ac407bcedb5689d1",
            "514ac1768af34d099fe9e9bfad913102",
            "ab75f7e68f1b49ec9bd0e623e6c1f61a",
            "d3639c45851a43dea78ee79b768ae8bd",
            "d2d26017279b4d6e919443800b660f53",
            "369462a2c8cc402185d3ecf8803b4cef",
            "5362b15febda4c5f800d2392a8bacc85",
            "35df12c5de404d8fb74acfde7755a716",
            "400b2c99ca644504a914e6bfd916e64b",
            "1884090776704c7eb2285ac63c7cbae9",
            "9b1f81e6874a44a2a7185d94c0fda70f",
            "b85d140716de45c38c45bbd2401fcc5b",
            "3dbe8e57e5944980940dedcde44dd171",
            "aba9604ba33e4079b3078d019ec8ef08",
            "413c8b951c564784a13e22ff154c514e",
            "37e83bff4efc43029325b5ad81d30ac2",
            "4809cc4aa04647d09b1c9ce7fc7c8d2a",
            "84702e4a749c4a8186f6ab7772dd417c",
            "e408e168b9194a42ad817b8069a3e4d2",
            "c197bbe91633420797feafe640de2671",
            "e2a69d3dce01412e849a7138dbe97e77",
            "71d689c3b6bd40adb6d2dfb18cac5bab",
            "04d34b2e324f4d6a8770ef777846c29c",
            "daf0622309ac493b93a8ececf3a657d4",
            "a226a17415254e02bcb256e606187e7b",
            "7bb916b571874ddabf9ebc8cdca12cb1",
            "f620757f6a2841b3809ba7ac4e8acce2",
            "e7c127764f7e4a2299754f55901bcf54",
            "609accf0f52c42e2b698a82616917a49",
            "1363769126b34029a96c323967bf886d",
            "b5097c1bf29a430c916e4f100812f1af",
            "85303b773e7a43edb9475b78a7adcaba",
            "ef00da914d414f228d6e7a51b375e515",
            "8facf060b9944795848071ffd3a52f8f",
            "e4854e51dee042958af5f0936588cd89",
            "b1ecf5c8146e40a3bd03ffcfa0f83d50",
            "b831b66e2fb0441386a52d36966e4263",
            "c492dcf3bb95465495ad37841f0f5c41",
            "8cc6dc3a2cc1417aa1e98c1b2d367985",
            "10870cc6ab2d459eb985d87f541e53bd",
            "79cbe93cda674282b47db0a878120539",
            "63436a80cd1f407ea94b2989bb612bc6",
            "ab0c2dc11b694e9e846200c54a160ea6",
            "693e3a5bab634c958b32e6fd81a9399b",
            "79f86055a03c40d69f0ef8513b7f9250",
            "bf6e913c29634f38811a947da92bf70e",
            "f23c74ab8573416982207a437cca6451",
            "977d36142c8d4cea95735a442d7abd69",
            "736c02b5f6764995abf3223d3d197c85",
            "3c7b15a3ee5646a99b1e600d316010b1",
            "b4fc4294349c4efaa08ae2d787f7acb9",
            "4e9401f6220e40d5afbc4ef996d967cb",
            "1eaf8e2898974875b6617629b362dbe9",
            "1242cc780258430fb25fccbe12b48b2f",
            "b2c5978ca2624fdc9f786d752b900712",
            "405751da1d244698ba41cb8347cbfc65",
            "d2ebc77b0546470587a84184d72a1d77",
            "410fd64a79274e7e84159934f71bbfca",
            "b36c914fdd6d4268abdc3388546d9eb7",
            "30aaead067e545a0b15b8d08fe5b8e6b",
            "078237b4e44a47b29afb1f455dd7a72e",
            "c6fb204ea6ea411495b824d7123a5bba",
            "b1ff5cf03b334fbfbc7c8069e189a894",
            "1be72a3de62a4809a13c4b1e68ec8635",
            "f8a2568e0d8e43b4932196d2d0c87551",
            "7a84ba8065f5410fabf7a3bc3c30aefb",
            "ea005f084a724275aa346769627b78da",
            "712a658cb7344540a9b9d934fcf21d04",
            "f2be2ac47239497da8aca5b23fcf7e4e",
            "666061ce89584489b47b21513e9b9407",
            "efed7061ceab4b4b9dde7cfe627969ff",
            "0ea2c81b12b74061b4cbb5ed97533e16",
            "20eaf41bea4046b1afa278155d769bd6",
            "caffeb4a9abd4470ba165ae242cffbcf",
            "7424bf06cb404ff496d5dfb45b7bad5b",
            "021f215840004e4391749089142a9061",
            "726ab0c574b742bd9bd641300fae134c",
            "619b48641c6a44788e693df4392b3f28",
            "e08d7136c1484aef95069b032943a18d",
            "df5dd20248444884931ad5d017e61885",
            "c49edd97ce484835ab5493a8a7a5ccc7",
            "c6486fb7c20c422bab695733f4c64ee1",
            "7e168ebfdb3e4d2eaff542188412cfce",
            "06b225373e0b4529857602fa19d1730a",
            "e3a06fb654be4707b2508607fdf456a0",
            "56c1d45ea80b4ac7a2d047661b34a31a",
            "85956f946d364256aa77416976b264eb",
            "d493dfbceb2a46858ea223de54a64389",
            "be5a3411d7df43918777f8c64af40cae",
            "8adce4e0543042158460105e404e1914",
            "8842e83df3aa4671b222f15f7c9a5cfd",
            "664d0e37195642bf858bb66d84cb0ae2",
            "a348d158a65f4f71bbea49b773d4a70c",
            "3432f431828e4c508da8809030af8e93",
            "fa016d94a4ff4864b987f1836fc884a7",
            "973626d306bf44f6a2f5640f52e86f80",
            "ae4f867337874b369b644b04d4bcd783",
            "359d3cd78fc14178a3c2d9bd46e77b99",
            "df2cf765d14d49399c903e8a1deaec8a",
            "b551bfcb43d74f61940a1f3e838ace37",
            "1951c608ff5140538b88c29efb723e2d",
            "4dfa3de7614c43619ed6e3d265691c97",
            "f6e63558e8c642a0aa34790550dfa2e6",
            "182de67990d842b8a9865ab19844a402",
            "8e990bb3e2a345b8934bc9e5015cf968",
            "30aae3d9773744309000d82f98fc8fea",
            "15b821088d2547e88a21a250d0a92ce5",
            "625a356c3b0b40828b8d083411f677b5",
            "9df4a2d3983f4b50948550f1ce158b01",
            "9a892ef004bf409cb3668d1e335d0bd7",
            "730c51a50d144ece963e57d17ef0dac4",
            "23bc69b37a124cffaa5492b60fc4824e",
            "64375c6ca8214d5d9cb524990a1806a4"
          ]
        },
        "id": "CDYnRYPDKd4-",
        "outputId": "3d8e5bf9-01d0-4a7d-f059-ca337663435e"
      },
      "outputs": [
        {
          "name": "stderr",
          "output_type": "stream",
          "text": [
            "/usr/local/lib/python3.11/dist-packages/huggingface_hub/utils/_auth.py:94: UserWarning: \n",
            "The secret `HF_TOKEN` does not exist in your Colab secrets.\n",
            "To authenticate with the Hugging Face Hub, create a token in your settings tab (https://huggingface.co/settings/tokens), set it as secret in your Google Colab and restart your session.\n",
            "You will be able to reuse this secret in all of your notebooks.\n",
            "Please note that authentication is recommended but still optional to access public models or datasets.\n",
            "  warnings.warn(\n"
          ]
        },
        {
          "data": {
            "application/vnd.jupyter.widget-view+json": {
              "model_id": "f113db66d58441a6a1577bd295db8813",
              "version_major": 2,
              "version_minor": 0
            },
            "text/plain": [
              "Loading pipeline components...:   0%|          | 0/7 [00:00<?, ?it/s]"
            ]
          },
          "metadata": {},
          "output_type": "display_data"
        },
        {
          "data": {
            "application/vnd.jupyter.widget-view+json": {
              "model_id": "7a7727d7ca064a0399fba983dab48415",
              "version_major": 2,
              "version_minor": 0
            },
            "text/plain": [
              "  0%|          | 0/25 [00:00<?, ?it/s]"
            ]
          },
          "metadata": {},
          "output_type": "display_data"
        },
        {
          "data": {
            "application/vnd.jupyter.widget-view+json": {
              "model_id": "f79287553fe443d0b39e9689c2c56a80",
              "version_major": 2,
              "version_minor": 0
            },
            "text/plain": [
              "  0%|          | 0/25 [00:00<?, ?it/s]"
            ]
          },
          "metadata": {},
          "output_type": "display_data"
        },
        {
          "data": {
            "application/vnd.jupyter.widget-view+json": {
              "model_id": "105784f58cc04f38b6bb2a7481be832c",
              "version_major": 2,
              "version_minor": 0
            },
            "text/plain": [
              "  0%|          | 0/25 [00:00<?, ?it/s]"
            ]
          },
          "metadata": {},
          "output_type": "display_data"
        },
        {
          "data": {
            "application/vnd.jupyter.widget-view+json": {
              "model_id": "f26b366481c04befb47910916e85c131",
              "version_major": 2,
              "version_minor": 0
            },
            "text/plain": [
              "  0%|          | 0/25 [00:00<?, ?it/s]"
            ]
          },
          "metadata": {},
          "output_type": "display_data"
        },
        {
          "data": {
            "application/vnd.jupyter.widget-view+json": {
              "model_id": "536bac4b2efc4dcca7b9ba9c71dfc420",
              "version_major": 2,
              "version_minor": 0
            },
            "text/plain": [
              "  0%|          | 0/25 [00:00<?, ?it/s]"
            ]
          },
          "metadata": {},
          "output_type": "display_data"
        },
        {
          "data": {
            "application/vnd.jupyter.widget-view+json": {
              "model_id": "deeb86204ebd4e5d97350734830a07e7",
              "version_major": 2,
              "version_minor": 0
            },
            "text/plain": [
              "  0%|          | 0/25 [00:00<?, ?it/s]"
            ]
          },
          "metadata": {},
          "output_type": "display_data"
        },
        {
          "data": {
            "application/vnd.jupyter.widget-view+json": {
              "model_id": "44f384b5d70243eb877f16bb46349e40",
              "version_major": 2,
              "version_minor": 0
            },
            "text/plain": [
              "  0%|          | 0/25 [00:00<?, ?it/s]"
            ]
          },
          "metadata": {},
          "output_type": "display_data"
        },
        {
          "data": {
            "application/vnd.jupyter.widget-view+json": {
              "model_id": "ed7b3a10a2344ba0ae6aa15521a76f8c",
              "version_major": 2,
              "version_minor": 0
            },
            "text/plain": [
              "  0%|          | 0/25 [00:00<?, ?it/s]"
            ]
          },
          "metadata": {},
          "output_type": "display_data"
        },
        {
          "data": {
            "application/vnd.jupyter.widget-view+json": {
              "model_id": "adf77d2209504e97a699ba14b9c66f89",
              "version_major": 2,
              "version_minor": 0
            },
            "text/plain": [
              "  0%|          | 0/25 [00:00<?, ?it/s]"
            ]
          },
          "metadata": {},
          "output_type": "display_data"
        },
        {
          "data": {
            "application/vnd.jupyter.widget-view+json": {
              "model_id": "137e69b964d84539afc6e303a6850527",
              "version_major": 2,
              "version_minor": 0
            },
            "text/plain": [
              "  0%|          | 0/25 [00:00<?, ?it/s]"
            ]
          },
          "metadata": {},
          "output_type": "display_data"
        },
        {
          "data": {
            "application/vnd.jupyter.widget-view+json": {
              "model_id": "16ba03e6cfb840459ed8e05d2dcee4c4",
              "version_major": 2,
              "version_minor": 0
            },
            "text/plain": [
              "  0%|          | 0/25 [00:00<?, ?it/s]"
            ]
          },
          "metadata": {},
          "output_type": "display_data"
        },
        {
          "data": {
            "application/vnd.jupyter.widget-view+json": {
              "model_id": "caf07693c5e242f7a1028d39a8321e59",
              "version_major": 2,
              "version_minor": 0
            },
            "text/plain": [
              "  0%|          | 0/25 [00:00<?, ?it/s]"
            ]
          },
          "metadata": {},
          "output_type": "display_data"
        },
        {
          "data": {
            "application/vnd.jupyter.widget-view+json": {
              "model_id": "7afaaddf54e04893b8f897c32df987d3",
              "version_major": 2,
              "version_minor": 0
            },
            "text/plain": [
              "  0%|          | 0/25 [00:00<?, ?it/s]"
            ]
          },
          "metadata": {},
          "output_type": "display_data"
        },
        {
          "data": {
            "application/vnd.jupyter.widget-view+json": {
              "model_id": "26a44fbcdcee4226b1c34ffe796a16bf",
              "version_major": 2,
              "version_minor": 0
            },
            "text/plain": [
              "  0%|          | 0/25 [00:00<?, ?it/s]"
            ]
          },
          "metadata": {},
          "output_type": "display_data"
        },
        {
          "data": {
            "application/vnd.jupyter.widget-view+json": {
              "model_id": "d3639c45851a43dea78ee79b768ae8bd",
              "version_major": 2,
              "version_minor": 0
            },
            "text/plain": [
              "  0%|          | 0/25 [00:00<?, ?it/s]"
            ]
          },
          "metadata": {},
          "output_type": "display_data"
        },
        {
          "data": {
            "application/vnd.jupyter.widget-view+json": {
              "model_id": "413c8b951c564784a13e22ff154c514e",
              "version_major": 2,
              "version_minor": 0
            },
            "text/plain": [
              "  0%|          | 0/25 [00:00<?, ?it/s]"
            ]
          },
          "metadata": {},
          "output_type": "display_data"
        },
        {
          "data": {
            "application/vnd.jupyter.widget-view+json": {
              "model_id": "7bb916b571874ddabf9ebc8cdca12cb1",
              "version_major": 2,
              "version_minor": 0
            },
            "text/plain": [
              "  0%|          | 0/25 [00:00<?, ?it/s]"
            ]
          },
          "metadata": {},
          "output_type": "display_data"
        },
        {
          "data": {
            "application/vnd.jupyter.widget-view+json": {
              "model_id": "b831b66e2fb0441386a52d36966e4263",
              "version_major": 2,
              "version_minor": 0
            },
            "text/plain": [
              "  0%|          | 0/25 [00:00<?, ?it/s]"
            ]
          },
          "metadata": {},
          "output_type": "display_data"
        },
        {
          "data": {
            "application/vnd.jupyter.widget-view+json": {
              "model_id": "977d36142c8d4cea95735a442d7abd69",
              "version_major": 2,
              "version_minor": 0
            },
            "text/plain": [
              "  0%|          | 0/25 [00:00<?, ?it/s]"
            ]
          },
          "metadata": {},
          "output_type": "display_data"
        },
        {
          "data": {
            "application/vnd.jupyter.widget-view+json": {
              "model_id": "b36c914fdd6d4268abdc3388546d9eb7",
              "version_major": 2,
              "version_minor": 0
            },
            "text/plain": [
              "  0%|          | 0/25 [00:00<?, ?it/s]"
            ]
          },
          "metadata": {},
          "output_type": "display_data"
        },
        {
          "data": {
            "application/vnd.jupyter.widget-view+json": {
              "model_id": "666061ce89584489b47b21513e9b9407",
              "version_major": 2,
              "version_minor": 0
            },
            "text/plain": [
              "  0%|          | 0/25 [00:00<?, ?it/s]"
            ]
          },
          "metadata": {},
          "output_type": "display_data"
        },
        {
          "data": {
            "application/vnd.jupyter.widget-view+json": {
              "model_id": "c49edd97ce484835ab5493a8a7a5ccc7",
              "version_major": 2,
              "version_minor": 0
            },
            "text/plain": [
              "  0%|          | 0/25 [00:00<?, ?it/s]"
            ]
          },
          "metadata": {},
          "output_type": "display_data"
        },
        {
          "data": {
            "application/vnd.jupyter.widget-view+json": {
              "model_id": "664d0e37195642bf858bb66d84cb0ae2",
              "version_major": 2,
              "version_minor": 0
            },
            "text/plain": [
              "  0%|          | 0/25 [00:00<?, ?it/s]"
            ]
          },
          "metadata": {},
          "output_type": "display_data"
        },
        {
          "data": {
            "application/vnd.jupyter.widget-view+json": {
              "model_id": "f6e63558e8c642a0aa34790550dfa2e6",
              "version_major": 2,
              "version_minor": 0
            },
            "text/plain": [
              "  0%|          | 0/25 [00:00<?, ?it/s]"
            ]
          },
          "metadata": {},
          "output_type": "display_data"
        },
        {
          "name": "stdout",
          "output_type": "stream",
          "text": [
            "Video created: generated_video.mp4\n"
          ]
        }
      ],
      "source": [
        "from diffusers import StableDiffusionPipeline\n",
        "import torch\n",
        "import cv2\n",
        "import os\n",
        "\n",
        "# Initialize model (Colab-specific config)\n",
        "pipe = StableDiffusionPipeline.from_pretrained(\n",
        "    \"runwayml/stable-diffusion-v1-5\",\n",
        "    torch_dtype=torch.float16,\n",
        "    use_safetensors=True\n",
        ").to(\"cuda\")\n",
        "\n",
        "def generate_frame(prompt, frame_number, output_path=\"/content/frames\"):\n",
        "    os.makedirs(output_path, exist_ok=True)\n",
        "    generator = torch.Generator(\"cuda\").manual_seed(42 + frame_number)\n",
        "\n",
        "    image = pipe(\n",
        "        prompt,\n",
        "        generator=generator,\n",
        "        height=512,\n",
        "        width=768,\n",
        "        num_inference_steps=25\n",
        "    ).images[0]\n",
        "\n",
        "    image.save(f\"{output_path}/frame_{frame_number:04d}.png\")\n",
        "\n",
        "def create_video(output_path=\"generated_video.mp4\"):\n",
        "    frame_files = sorted([f for f in os.listdir(\"/content/frames\") if f.endswith('.png')])\n",
        "\n",
        "    img = cv2.imread(f\"/content/frames/{frame_files[0]}\")\n",
        "    height, width = img.shape[:2]\n",
        "\n",
        "    fourcc = cv2.VideoWriter_fourcc(*'mp4v')\n",
        "    video = cv2.VideoWriter(output_path, fourcc, 24.0, (width, height))\n",
        "\n",
        "    for frame in frame_files:\n",
        "        video.write(cv2.imread(f\"/content/frames/{frame}\"))\n",
        "\n",
        "    video.release()\n",
        "    return output_path\n",
        "\n",
        "# Run generation\n",
        "prompt = \"A fox wearing glasses reading a book under a magical tree\"  # Replace with your prompt\n",
        "num_frames = 24 # For 1 second video\n",
        "\n",
        "for i in range(num_frames):\n",
        "    generate_frame(prompt, i)\n",
        "\n",
        "video_path = create_video()\n",
        "print(f\"Video created: {video_path}\")\n"
      ]
    },
    {
      "cell_type": "code",
      "execution_count": null,
      "metadata": {
        "colab": {
          "base_uri": "https://localhost:8080/",
          "height": 232,
          "referenced_widgets": [
            "87d6b355cf8945bc907dc5d370a5f6a8",
            "4bfd8ab9f20c4ebbb27b396cd7b935cc",
            "a77d72fbf196461b93dcccc016799eac",
            "707ee9c26f034634b8e67fa831add5c1",
            "7a41513c0a5a425fa8295b4851591a10",
            "be96d228d1e84d8b9587d8d6cd7598ad",
            "b323017478174de285644cac561c878f",
            "ddff9a62f332440db737944b73ad740e",
            "8538d9d9f5d445358fc56641d5d79f63",
            "0811506e705849b5b71da6ae61fb49ee",
            "f7a8a8a82ec744d8ae26ab275b2b3603",
            "e7503f582d5e4faa83f7cd155cc6b162",
            "9a6c54c5e0c44ff0a2ccef2bc355a519",
            "8f204ec6052747a48332dd34407d560f",
            "9029bfd9349f43ada6166605dcc653b1",
            "76362e0a23554cc5b2035f6184954b63",
            "c6e0b11630a24fdaa954c34b32c0a12c",
            "21522c1524154908827640a3ab601740",
            "40d79d067c9c41f194c706c1ccea1645",
            "707fc035840147a681a5dd80bfb5195f",
            "9f503016f9874dbdb4df7da74f4b1a76",
            "fa037d50ff2342c1b39b33fa9fbe0d5a",
            "1d6d018cc79243da8bb9db673ff286d4",
            "7f3fbaca4f5844f68b5b56f2325b46ac",
            "b3d79e76f8ca44a3be497d2b77b24aec",
            "7d4700f599744088bac1e1f9fee26e59",
            "298a8d76f5f84064af5cbc1a0a87d60c",
            "9c40ea44fe024fc893a5bce43e1e7352",
            "89926a27111c416494302e5dd86784b3",
            "774b93ab63bd4c8f8fa7ac690cd6f30f",
            "3bb3504d1e3c4543befb0c0164a92ddc",
            "c7d56ad23ac04324a85a37daf8a0ade4",
            "f823349982ec4f84bbc480336d7a5ebc",
            "f0aae8a4718e44dcb35cc5f8cf0a97f0",
            "0097395802af48c791c2a8ec7436e40a",
            "83292bab572440faadfdf5361f4b414b",
            "981eaabdba454132b6131eb9b3a5f8af",
            "591c6f26098643eaa206fdf4f6a175fc",
            "1d7cb9159c0142ce831a770bad73fd1b",
            "0a6f4ba6ad3d4927a033fa78f1b0953b",
            "b3a3c7f031a2446ebb718e859dc3fa83",
            "f00e3121bc874f098900662186ad1dde",
            "8280e29798ca4fa2ab45d9edafeec899",
            "7687c2d9c21b44b9bf1dfcad7f511165"
          ]
        },
        "id": "8ZozLgP6MWiF",
        "outputId": "70cb8f15-2df4-4b0d-de90-5e73ef5af2d4"
      },
      "outputs": [
        {
          "data": {
            "application/vnd.jupyter.widget-view+json": {
              "model_id": "87d6b355cf8945bc907dc5d370a5f6a8",
              "version_major": 2,
              "version_minor": 0
            },
            "text/plain": [
              "Loading pipeline components...:   0%|          | 0/5 [00:00<?, ?it/s]"
            ]
          },
          "metadata": {},
          "output_type": "display_data"
        },
        {
          "data": {
            "application/vnd.jupyter.widget-view+json": {
              "model_id": "e7503f582d5e4faa83f7cd155cc6b162",
              "version_major": 2,
              "version_minor": 0
            },
            "text/plain": [
              "Loading pipeline components...:   0%|          | 0/7 [00:00<?, ?it/s]"
            ]
          },
          "metadata": {},
          "output_type": "display_data"
        },
        {
          "name": "stdout",
          "output_type": "stream",
          "text": [
            "Enter your text prompt: Floating islands in the sky with waterfalls pouring into the clouds\n",
            "Generating base image...\n"
          ]
        },
        {
          "data": {
            "application/vnd.jupyter.widget-view+json": {
              "model_id": "1d6d018cc79243da8bb9db673ff286d4",
              "version_major": 2,
              "version_minor": 0
            },
            "text/plain": [
              "  0%|          | 0/50 [00:00<?, ?it/s]"
            ]
          },
          "metadata": {},
          "output_type": "display_data"
        },
        {
          "name": "stdout",
          "output_type": "stream",
          "text": [
            "Generating video frames...\n"
          ]
        },
        {
          "data": {
            "application/vnd.jupyter.widget-view+json": {
              "model_id": "f0aae8a4718e44dcb35cc5f8cf0a97f0",
              "version_major": 2,
              "version_minor": 0
            },
            "text/plain": [
              "  0%|          | 0/25 [00:00<?, ?it/s]"
            ]
          },
          "metadata": {},
          "output_type": "display_data"
        },
        {
          "name": "stdout",
          "output_type": "stream",
          "text": [
            "Saving video at 1.40 FPS...\n",
            "✅ Video saved as: text_to_video_output.mp4\n"
          ]
        }
      ],
      "source": [
        "from diffusers import StableDiffusionPipeline, StableVideoDiffusionPipeline\n",
        "import torch\n",
        "import tempfile\n",
        "from PIL import Image\n",
        "import imageio\n",
        "import os\n",
        "import cv2\n",
        "\n",
        "# Load video diffusion model\n",
        "model_id = \"stabilityai/stable-video-diffusion-img2vid\"\n",
        "\n",
        "pipe = StableVideoDiffusionPipeline.from_pretrained(\n",
        "    model_id,\n",
        "    torch_dtype=torch.float16,\n",
        "    variant=\"fp16\"\n",
        ").to(\"cuda\")\n",
        "\n",
        "pipe.enable_model_cpu_offload()\n",
        "\n",
        "# Load image generation pipeline\n",
        "img_pipe = StableDiffusionPipeline.from_pretrained(\n",
        "    \"runwayml/stable-diffusion-v1-5\", torch_dtype=torch.float16\n",
        ").to(\"cuda\")\n",
        "\n",
        "# Prompt from user\n",
        "prompt = input(\"Enter your text prompt: \")  # Example: \"A panda playing in the forest\"\n",
        "\n",
        "# Step 1: Generate image from text prompt\n",
        "print(\"Generating base image...\")\n",
        "image = img_pipe(prompt).images[0]\n",
        "\n",
        "# Step 2: Generate video frames from image\n",
        "print(\"Generating video frames...\")\n",
        "video_frames = pipe(image, decode_chunk_size=8, generator=torch.manual_seed(42)).frames[0]\n",
        "\n",
        "# Step 3: Save frames as MP4 video (~10 seconds)\n",
        "output_video_path = \"text_to_video_output.mp4\"\n",
        "fps = len(video_frames) / 10  # Stretch to 10 seconds\n",
        "\n",
        "print(f\"Saving video at {fps:.2f} FPS...\")\n",
        "imageio.mimwrite(output_video_path, video_frames, fps=fps, codec='libx264', quality=8)\n",
        "\n",
        "print(f\"✅ Video saved as: {output_video_path}\")\n"
      ]
    }
  ],
  "metadata": {
    "accelerator": "GPU",
    "colab": {
      "gpuType": "T4",
      "provenance": [],
      "authorship_tag": "ABX9TyO4N4SVZjgJMCXw+3w2eU1H",
      "include_colab_link": true
    },
    "kernelspec": {
      "display_name": "Python 3",
      "name": "python3"
    },
    "language_info": {
      "name": "python"
    }
  },
  "nbformat": 4,
  "nbformat_minor": 0
}