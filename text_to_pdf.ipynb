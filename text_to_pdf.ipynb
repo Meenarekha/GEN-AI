{
  "nbformat": 4,
  "nbformat_minor": 0,
  "metadata": {
    "colab": {
      "provenance": [],
      "authorship_tag": "ABX9TyN+LWTpJ74vt0WzviqWot+D",
      "include_colab_link": true
    },
    "kernelspec": {
      "name": "python3",
      "display_name": "Python 3"
    },
    "language_info": {
      "name": "python"
    }
  },
  "cells": [
    {
      "cell_type": "markdown",
      "metadata": {
        "id": "view-in-github",
        "colab_type": "text"
      },
      "source": [
        "<a href=\"https://colab.research.google.com/github/Meenarekha/GEN-AI/blob/main/text_to_pdf.ipynb\" target=\"_parent\"><img src=\"https://colab.research.google.com/assets/colab-badge.svg\" alt=\"Open In Colab\"/></a>"
      ]
    },
    {
      "cell_type": "code",
      "execution_count": 4,
      "metadata": {
        "colab": {
          "base_uri": "https://localhost:8080/",
          "height": 36
        },
        "id": "wk1dOBpSWc37",
        "outputId": "98c98ba7-992c-4207-a0c9-7b55da358d41"
      },
      "outputs": [
        {
          "output_type": "execute_result",
          "data": {
            "text/plain": [
              "'/content/sample_data/Data_Visualization_Examples.pdf'"
            ],
            "application/vnd.google.colaboratory.intrinsic+json": {
              "type": "string"
            }
          },
          "metadata": {},
          "execution_count": 4
        }
      ],
      "source": [
        "from fpdf import FPDF\n",
        "\n",
        "# Initialize PDF\n",
        "pdf = FPDF()\n",
        "pdf.set_auto_page_break(auto=True, margin=15)\n",
        "pdf.add_page()\n",
        "pdf.set_font(\"Arial\", size=12)\n",
        "\n",
        "# Content (summarized for better formatting in PDF)\n",
        "content = [\n",
        "    (\"Simple Line Plots\", \"Show trends over time.\\nExample:\\nplt.plot(x, y)\"),\n",
        "    (\"Simple Scatter Plots\", \"Show relationships between variables.\\nExample:\\nplt.scatter(x, y)\"),\n",
        "    (\"Visualizing Errors\", \"Display uncertainty with error bars.\\nExample:\\nplt.errorbar(x, y, yerr=error)\"),\n",
        "    (\"Density and Contour Plots\", \"Show distribution density in 2D.\\nExample:\\nsns.kdeplot(x=x, y=y, fill=True)\"),\n",
        "    (\"Histograms, Binnings, and Density\", \"Frequency distribution.\\nExample:\\nplt.hist(data, bins=4)\"),\n",
        "    (\"Customizing Plot Legends\", \"Label different plots.\\nExample:\\nplt.legend(loc='upper right')\"),\n",
        "    (\"Customizing Colorbars\", \"Use in heatmaps/images.\\nExample:\\nplt.colorbar(im)\"),\n",
        "    (\"Multiple Subplots\", \"Compare multiple plots.\\nExample:\\nfig, axs = plt.subplots(2, 2)\"),\n",
        "    (\"Text and Annotation\", \"Add notes to plots.\\nExample:\\nplt.text(), plt.annotate()\"),\n",
        "    (\"Customizing Ticks\", \"Change tick labels.\\nExample:\\nplt.xticks([0,1,2], ['A', 'B', 'C'])\"),\n",
        "    (\"Customizing Stylesheets\", \"Apply style themes.\\nExample:\\nplt.style.use('ggplot')\"),\n",
        "    (\"Three-Dimensional Plots\", \"3D visualization.\\nExample:\\nax.plot3D(x, y, z)\"),\n",
        "    (\"Geographic Data with Basemap\", \"Map visualization (deprecated).\\nExample:\\nmap.drawcoastlines()\"),\n",
        "    (\"Visualization with Seaborn\", \"High-level statistical plots.\\nExample:\\nsns.barplot(), sns.heatmap()\")\n",
        "]\n",
        "\n",
        "# Add content to PDF\n",
        "for title, desc in content:\n",
        "    pdf.set_font(\"Arial\", style='B', size=12)\n",
        "    pdf.cell(200, 10, txt=title, ln=True)\n",
        "    pdf.set_font(\"Arial\", size=12)\n",
        "    for line in desc.split('\\n'):\n",
        "        pdf.multi_cell(0, 10, txt=line)\n",
        "    pdf.ln(2)\n",
        "\n",
        "# Save the PDF\n",
        "pdf_path = \"/content/sample_data/Data_Visualization_Examples.pdf\"\n",
        "pdf.output(pdf_path)\n",
        "pdf_path\n"
      ]
    },
    {
      "cell_type": "code",
      "source": [
        "!pip install fpdf"
      ],
      "metadata": {
        "colab": {
          "base_uri": "https://localhost:8080/"
        },
        "id": "Whq9TVB-Wiar",
        "outputId": "2a83b13e-54a6-49c1-9326-436f49a8bb43"
      },
      "execution_count": 2,
      "outputs": [
        {
          "output_type": "stream",
          "name": "stdout",
          "text": [
            "Collecting fpdf\n",
            "  Downloading fpdf-1.7.2.tar.gz (39 kB)\n",
            "  Preparing metadata (setup.py) ... \u001b[?25l\u001b[?25hdone\n",
            "Building wheels for collected packages: fpdf\n",
            "  Building wheel for fpdf (setup.py) ... \u001b[?25l\u001b[?25hdone\n",
            "  Created wheel for fpdf: filename=fpdf-1.7.2-py2.py3-none-any.whl size=40704 sha256=c170db196636f7b59eb2bd5b9de89476ccccfe537a8044f1c03872bfc46eb36f\n",
            "  Stored in directory: /root/.cache/pip/wheels/65/4f/66/bbda9866da446a72e206d6484cd97381cbc7859a7068541c36\n",
            "Successfully built fpdf\n",
            "Installing collected packages: fpdf\n",
            "Successfully installed fpdf-1.7.2\n"
          ]
        }
      ]
    },
    {
      "cell_type": "code",
      "source": [],
      "metadata": {
        "id": "8tnbCmR_WqGA"
      },
      "execution_count": null,
      "outputs": []
    }
  ]
}