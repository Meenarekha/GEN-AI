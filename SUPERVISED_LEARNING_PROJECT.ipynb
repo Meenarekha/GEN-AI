{
  "nbformat": 4,
  "nbformat_minor": 0,
  "metadata": {
    "colab": {
      "provenance": [],
      "authorship_tag": "ABX9TyMKxluf0VKwfG/B02C5Hvyv",
      "include_colab_link": true
    },
    "kernelspec": {
      "name": "python3",
      "display_name": "Python 3"
    },
    "language_info": {
      "name": "python"
    }
  },
  "cells": [
    {
      "cell_type": "markdown",
      "metadata": {
        "id": "view-in-github",
        "colab_type": "text"
      },
      "source": [
        "<a href=\"https://colab.research.google.com/github/Meenarekha/GEN-AI/blob/main/SUPERVISED_LEARNING_PROJECT.ipynb\" target=\"_parent\"><img src=\"https://colab.research.google.com/assets/colab-badge.svg\" alt=\"Open In Colab\"/></a>"
      ]
    },
    {
      "cell_type": "markdown",
      "source": [
        "# Spam Detection in SMS using Logistic Regression"
      ],
      "metadata": {
        "id": "4Wrx43LGuYEx"
      }
    },
    {
      "cell_type": "code",
      "source": [
        "# Import modules\n",
        "import pandas as pd\n",
        "from sklearn.model_selection import train_test_split\n",
        "from sklearn.feature_extraction.text import CountVectorizer\n",
        "from sklearn.linear_model import LogisticRegression\n",
        "from sklearn.metrics import accuracy_score, classification_report\n",
        "\n",
        "# Load SMS Spam dataset\n",
        "url = \"https://raw.githubusercontent.com/justmarkham/pycon-2016-tutorial/master/data/sms.tsv\"\n",
        "df = pd.read_csv(url, sep='\\t', header=None, names=['label', 'message'])\n",
        "\n",
        "# Encode labels: ham → 0, spam → 1\n",
        "df['label'] = df['label'].map({'ham': 0, 'spam': 1})\n",
        "\n",
        "# Split data\n",
        "X_train, X_test, y_train, y_test = train_test_split(df['message'], df['label'], test_size=0.2, random_state=42)\n",
        "\n",
        "# Text vectorization\n",
        "vectorizer = CountVectorizer()\n",
        "X_train_vec = vectorizer.fit_transform(X_train)\n",
        "X_test_vec = vectorizer.transform(X_test)\n",
        "\n",
        "# Train model\n",
        "clf = LogisticRegression()\n",
        "clf.fit(X_train_vec, y_train)\n",
        "\n",
        "# Evaluate model\n",
        "preds = clf.predict(X_test_vec)\n",
        "print(\"✅ Model Trained Successfully\")\n",
        "print(\"🔍 Accuracy on Test Set:\", accuracy_score(y_test, preds))\n",
        "print(\"📊 Classification Report:\\n\", classification_report(y_test, preds))\n",
        "\n",
        "# User input for prediction\n",
        "print(\"\\n🔎 Check if your message is SPAM or NOT\")\n",
        "user_msg = input(\"Enter your SMS message: \")\n",
        "\n",
        "# Transform and predict\n",
        "user_vec = vectorizer.transform([user_msg])\n",
        "user_pred = clf.predict(user_vec)\n",
        "\n",
        "# Output result\n",
        "print(\"\\n🧾 Prediction Result:\")\n",
        "print(\"👉 The message is:\", \"🚫 SPAM\" if user_pred[0] == 1 else \"✅ NOT SPAM\")\n"
      ],
      "metadata": {
        "colab": {
          "base_uri": "https://localhost:8080/"
        },
        "id": "MXWbUWaeu6-r",
        "outputId": "142bf4d6-f1e2-4486-8e9b-8db6c62024ea"
      },
      "execution_count": 4,
      "outputs": [
        {
          "output_type": "stream",
          "name": "stdout",
          "text": [
            "✅ Model Trained Successfully\n",
            "🔍 Accuracy on Test Set: 0.9883408071748879\n",
            "📊 Classification Report:\n",
            "               precision    recall  f1-score   support\n",
            "\n",
            "           0       0.99      1.00      0.99       966\n",
            "           1       1.00      0.91      0.95       149\n",
            "\n",
            "    accuracy                           0.99      1115\n",
            "   macro avg       0.99      0.96      0.97      1115\n",
            "weighted avg       0.99      0.99      0.99      1115\n",
            "\n",
            "\n",
            "🔎 Check if your message is SPAM or NOT\n",
            "Enter your SMS message:  Congratulations! You've won a free ticket to Maldives. Call now to claim.\n",
            "\n",
            "🧾 Prediction Result:\n",
            "👉 The message is: 🚫 SPAM\n"
          ]
        }
      ]
    },
    {
      "cell_type": "code",
      "source": [
        "# Import modules\n",
        "import pandas as pd\n",
        "from sklearn.model_selection import train_test_split\n",
        "from sklearn.feature_extraction.text import CountVectorizer\n",
        "from sklearn.linear_model import LogisticRegression\n",
        "from sklearn.metrics import accuracy_score, classification_report\n",
        "\n",
        "# Load SMS Spam dataset\n",
        "url = \"https://raw.githubusercontent.com/justmarkham/pycon-2016-tutorial/master/data/sms.tsv\"\n",
        "df = pd.read_csv(url, sep='\\t', header=None, names=['label', 'message'])\n",
        "\n",
        "# Encode labels: ham → 0, spam → 1\n",
        "df['label'] = df['label'].map({'ham': 0, 'spam': 1})\n",
        "\n",
        "# Split data\n",
        "X_train, X_test, y_train, y_test = train_test_split(df['message'], df['label'], test_size=0.2, random_state=42)\n",
        "\n",
        "# Text vectorization\n",
        "vectorizer = CountVectorizer()\n",
        "X_train_vec = vectorizer.fit_transform(X_train)\n",
        "X_test_vec = vectorizer.transform(X_test)\n",
        "\n",
        "# Train model\n",
        "clf = LogisticRegression()\n",
        "clf.fit(X_train_vec, y_train)\n",
        "\n",
        "# Evaluate model\n",
        "preds = clf.predict(X_test_vec)\n",
        "print(\"✅ Model Trained Successfully\")\n",
        "print(\"🔍 Accuracy on Test Set:\", accuracy_score(y_test, preds))\n",
        "print(\"📊 Classification Report:\\n\", classification_report(y_test, preds))\n",
        "\n",
        "# User input for prediction\n",
        "print(\"\\n🔎 Check if your message is SPAM or NOT\")\n",
        "user_msg = input(\"Enter your SMS message: \")\n",
        "\n",
        "# Transform and predict\n",
        "user_vec = vectorizer.transform([user_msg])\n",
        "user_pred = clf.predict(user_vec)\n",
        "\n",
        "# Output result\n",
        "print(\"\\n🧾 Prediction Result:\")\n",
        "print(\"👉 The message is:\", \"🚫 SPAM\" if user_pred[0] == 1 else \"✅ NOT SPAM\")\n"
      ],
      "metadata": {
        "colab": {
          "base_uri": "https://localhost:8080/"
        },
        "id": "WYHrR0ChvYJ_",
        "outputId": "0f24d0ff-0b87-46ba-f836-4350bac9008f"
      },
      "execution_count": 5,
      "outputs": [
        {
          "output_type": "stream",
          "name": "stdout",
          "text": [
            "✅ Model Trained Successfully\n",
            "🔍 Accuracy on Test Set: 0.9883408071748879\n",
            "📊 Classification Report:\n",
            "               precision    recall  f1-score   support\n",
            "\n",
            "           0       0.99      1.00      0.99       966\n",
            "           1       1.00      0.91      0.95       149\n",
            "\n",
            "    accuracy                           0.99      1115\n",
            "   macro avg       0.99      0.96      0.97      1115\n",
            "weighted avg       0.99      0.99      0.99      1115\n",
            "\n",
            "\n",
            "🔎 Check if your message is SPAM or NOT\n",
            "Enter your SMS message:  Hey, are we still meeting at 6 PM today?\n",
            "\n",
            "🧾 Prediction Result:\n",
            "👉 The message is: ✅ NOT SPAM\n"
          ]
        }
      ]
    },
    {
      "cell_type": "code",
      "source": [],
      "metadata": {
        "id": "oiHZonHfvwzS"
      },
      "execution_count": null,
      "outputs": []
    }
  ]
}